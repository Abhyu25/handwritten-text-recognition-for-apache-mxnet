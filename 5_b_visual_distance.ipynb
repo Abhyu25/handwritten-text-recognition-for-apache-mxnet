{
 "cells": [
  {
   "cell_type": "code",
   "execution_count": 1,
   "metadata": {},
   "outputs": [],
   "source": [
    "from collections import defaultdict\n",
    "import glob\n",
    "from os.path import join\n",
    "import os\n",
    "import random\n",
    "import string\n",
    "import tarfile\n",
    "import zipfile"
   ]
  },
  {
   "cell_type": "code",
   "execution_count": 2,
   "metadata": {},
   "outputs": [],
   "source": [
    "import hnswlib\n",
    "import matplotlib.pyplot as plt\n",
    "import mxnet as mx\n",
    "from mxnet import gluon, nd, autograd\n",
    "import numpy as np\n",
    "import PIL\n",
    "from PIL import Image, ImageDraw, ImageFont, ImageOps\n",
    "from scipy.io import loadmat"
   ]
  },
  {
   "cell_type": "code",
   "execution_count": 3,
   "metadata": {},
   "outputs": [],
   "source": [
    "from ocr.handwriting_line_recognition import Network as HandwritingRecognitionNet, handwriting_recognition_transform\n",
    "from ocr.handwriting_line_recognition import decode as decoder_handwriting, alphabet_encoding"
   ]
  },
  {
   "cell_type": "markdown",
   "metadata": {},
   "source": [
    "# Data Generation\n",
    "\n",
    "We generate partial text that ressembles cursive using custom fonts angled / slided and of different sizes"
   ]
  },
  {
   "cell_type": "code",
   "execution_count": 4,
   "metadata": {},
   "outputs": [],
   "source": [
    "ctx= mx.gpu(0) if mx.context.num_gpus() > 0 else mx.cpu()"
   ]
  },
  {
   "cell_type": "code",
   "execution_count": 58,
   "metadata": {},
   "outputs": [],
   "source": [
    "fonts = [\n",
    "    'dataset/fonts/AdineKirnberg-Alternate.ttf',\n",
    "    'dataset/fonts/AguafinaScript-Regular.ttf',\n",
    "    'dataset/fonts/daisy.ttf',\n",
    "    'dataset/fonts/Linoleo Script.ttf',\n",
    "    'dataset/fonts/mayqueen.ttf',\n",
    "    'dataset/fonts/Otto.ttf',\n",
    "    'dataset/fonts/Popsies.ttf',\n",
    "]"
   ]
  },
  {
   "cell_type": "code",
   "execution_count": 57,
   "metadata": {},
   "outputs": [],
   "source": [
    "factors = {\n",
    "    'dataset/fonts/AdineKirnberg-Alternate.ttf': {'r':10, 'size':0.65, 'slide':(0.6, 0.2)},\n",
    "    'dataset/fonts/AguafinaScript-Regular.ttf': {'r':10, 'size':0.4, 'slide':(0.5, 0.2)},\n",
    "    'dataset/fonts/daisy.ttf': {'r':10, 'size':0.65, 'slide':(0.5, 0.2)},\n",
    "    'dataset/fonts/Linoleo Script.ttf': {'r':10, 'size':0.65, 'slide':(0.7, 0.2)},\n",
    "    'dataset/fonts/mayqueen.ttf': {'r':10, 'size':0.65, 'slide':(0.7, 0.2)},\n",
    "    'dataset/fonts/Otto.ttf': {'r':10, 'size':0.65, 'slide':(0.7, 0.2)},\n",
    "    'dataset/fonts/Popsies.ttf': {'r':10, 'size':0.5, 'slide':(0.5, 0.1)}\n",
    "}"
   ]
  },
  {
   "cell_type": "code",
   "execution_count": 7,
   "metadata": {},
   "outputs": [],
   "source": [
    "factors = {\n",
    "    'dataset/fonts/AdineKirnberg-Alternate.ttf': {'r':0, 'size':0.65, 'slide':(0.6, 0)},\n",
    "    'dataset/fonts/AguafinaScript-Regular.ttf': {'r':0, 'size':0.4, 'slide':(0.5, 0)},\n",
    "    'dataset/fonts/daisy.ttf': {'r':0, 'size':0.65, 'slide':(0.6, 0)},\n",
    "    'dataset/fonts/Linoleo Script.ttf': {'r':10, 'size':0.65, 'slide':(0.7, 0)},\n",
    "    'dataset/fonts/mayqueen.ttf': {'r':0, 'size':0.65, 'slide':(0.7, 0)},\n",
    "    'dataset/fonts/Otto.ttf': {'r':0, 'size':0.65, 'slide':(0.7, 0)},\n",
    "    'dataset/fonts/Popsies.ttf': {'r':0, 'size':0.5, 'slide':(0.5, 0)}\n",
    "}"
   ]
  },
  {
   "cell_type": "markdown",
   "metadata": {},
   "source": [
    "Manual Testing of images"
   ]
  },
  {
   "cell_type": "code",
   "execution_count": 8,
   "metadata": {},
   "outputs": [
    {
     "data": {
      "image/png": "[encoded data removed]",
      "text/plain": [
       "<PIL.Image.Image image mode=RGB size=300x200 at 0x7F2C144A14A8>"
      ]
     },
     "execution_count": 8,
     "metadata": {},
     "output_type": "execute_result"
    }
   ],
   "source": [
    "W, H = (300,200)\n",
    "im = Image.new(\"RGB\",(W,H),\"white\")\n",
    "msg = \"gz\"\n",
    "font =  'dataset/fonts/mayqueen.ttf'\n",
    "shift = 0\n",
    "initial_shit = random.uniform(30, 90)\n",
    "for i, char in enumerate(msg):    \n",
    "    size = random.gauss(factors[font]['size'], 0.05*factors[font]['size'] )*W\n",
    "    im_char = Image.new(\"RGBA\",(W,H), (255, 0, 0, 0))\n",
    "    draw = ImageDraw.Draw(im_char)\n",
    "    rotate = random.uniform(-factors[font]['r'], factors[font]['r'])\n",
    "    font_ = ImageFont.truetype(font, size=int(size))\n",
    "    slide = random.uniform(factors[font]['slide'][0]-factors[font]['slide'][1],factors[font]['slide'][0]+factors[font]['slide'][1])\n",
    "    w, h = draw.textsize(char, font_)\n",
    "    draw.text((initial_shit + shift,0), char, fill=\"black\", font=font_)\n",
    "    im_char = im_char.rotate(rotate, expand=0, resample=PIL.Image.BICUBIC)\n",
    "    im.paste(im_char, mask=im_char)\n",
    "    shift += slide*w\n",
    "im"
   ]
  },
  {
   "cell_type": "code",
   "execution_count": 59,
   "metadata": {},
   "outputs": [],
   "source": [
    "class FontDataset(gluon.data.Dataset):\n",
    "    def __init__(self, font='dataset/fonts/AdineKirnberg-Alternate.ttf',\n",
    "                  ngrams=3, size=(300, 200), out_channel=1):\n",
    "        self.font = font\n",
    "        self.ngrams = ngrams\n",
    "        self.alphabet = list(' ' + string.ascii_letters + string.digits+\"'.,;:\\\"()?!\")\n",
    "        self.elements = self.alphabet\n",
    "        self.size = size\n",
    "        self.out_channel = out_channel\n",
    "        for i in range(self.ngrams-1):\n",
    "            elements_ = []\n",
    "            for word in self.elements:\n",
    "                for letter in self.alphabet:\n",
    "                    elements_.append(word+letter)\n",
    "            self.elements = elements_\n",
    "        a = 1\n",
    "        \n",
    "    def _get_img(self, text, font=None):\n",
    "        W, H = self.size\n",
    "        if font is None:\n",
    "            font = self.font\n",
    "            font_ = ImageFont.truetype(self.font, size=120)\n",
    "        else:\n",
    "            font_ = ImageFont.truetype(font, size=60)\n",
    "        im = Image.new(\"RGB\",(W,H),\"white\")\n",
    "        shift = 0\n",
    "        initial_shit = random.uniform(0.1*W, 0.3*W)\n",
    "        for i, char in enumerate(text):    \n",
    "            size = random.gauss(factors[font]['size'], 0.05*factors[font]['size'] )*W\n",
    "            im_char = Image.new(\"RGBA\",(W,H), (255, 0, 0, 0))\n",
    "            draw = ImageDraw.Draw(im_char)\n",
    "            rotate = random.uniform(-factors[font]['r'], factors[font]['r'])\n",
    "            font_ = ImageFont.truetype(font, size=int(size))\n",
    "            slide = random.uniform(factors[font]['slide'][0]-factors[font]['slide'][1],factors[font]['slide'][0]+factors[font]['slide'][1])\n",
    "            w, h = draw.textsize(char, font_)\n",
    "            draw.text((initial_shit + shift,0), char, fill=\"black\", font=font_)\n",
    "            im_char = im_char.rotate(rotate, expand=0, resample=PIL.Image.BICUBIC)\n",
    "            im.paste(im_char, mask=im_char)\n",
    "            shift += slide*w\n",
    "        return im\n",
    "            \n",
    "    def __getitem__(self, idx):\n",
    "        text = self.elements[idx]\n",
    "        im = self._get_img(text)\n",
    "        if self.out_channel == 3:\n",
    "            return nd.array(np.array(im)), idx\n",
    "        else:\n",
    "            return nd.array(np.array(im).mean(axis=2)).expand_dims(axis=2), idx\n",
    "        \n",
    "    def __len__(self):\n",
    "        return len(self.elements)    "
   ]
  },
  {
   "cell_type": "code",
   "execution_count": 10,
   "metadata": {},
   "outputs": [],
   "source": [
    "train_dataset = FontDataset()\n",
    "batch_size = 64\n",
    "train_data = gluon.data.DataLoader(train_dataset.transform_first(gluon.data.vision.transforms.ToTensor()), batch_size=batch_size, last_batch='rollover', shuffle=True, num_workers=8)"
   ]
  },
  {
   "cell_type": "code",
   "execution_count": 61,
   "metadata": {},
   "outputs": [
    {
     "data": {
      "text/plain": [
       "<matplotlib.image.AxesImage at 0x7f2c13f1fda0>"
      ]
     },
     "execution_count": 61,
     "metadata": {},
     "output_type": "execute_result"
    },
    {
     "data": {
      "image/png": "[encoded data removed]",
      "text/plain": [
       "<Figure size 432x288 with 1 Axes>"
      ]
     },
     "metadata": {},
     "output_type": "display_data"
    }
   ],
   "source": [
    "plt.imshow(train_dataset._get_img('m\"u'), cmap='gray')"
   ]
  },
  {
   "cell_type": "markdown",
   "metadata": {},
   "source": [
    "## Using the pre-trained recognition network"
   ]
  },
  {
   "cell_type": "code",
   "execution_count": 62,
   "metadata": {},
   "outputs": [],
   "source": [
    "handwriting_line_recognition_net = HandwritingRecognitionNet(rnn_hidden_states=512,\n",
    "                                                             rnn_layers=2, ctx=ctx, max_seq_len=160)\n",
    "handwriting_line_recognition_net.load_parameters(\"models/handwriting_line_sl_160_a_512_o_2.params\", ctx=ctx)"
   ]
  },
  {
   "cell_type": "code",
   "execution_count": 66,
   "metadata": {},
   "outputs": [],
   "source": [
    "im = np.array(train_dataset._get_img('ame'))"
   ]
  },
  {
   "cell_type": "code",
   "execution_count": 67,
   "metadata": {},
   "outputs": [
    {
     "data": {
      "text/plain": [
       "<matplotlib.image.AxesImage at 0x7f2c0c367710>"
      ]
     },
     "execution_count": 67,
     "metadata": {},
     "output_type": "execute_result"
    },
    {
     "data": {
      "image/png": "[encoded data removed]",
      "text/plain": [
       "<Figure size 432x288 with 1 Axes>"
      ]
     },
     "metadata": {},
     "output_type": "display_data"
    }
   ],
   "source": [
    "plt.imshow(im)"
   ]
  },
  {
   "cell_type": "code",
   "execution_count": 24,
   "metadata": {},
   "outputs": [],
   "source": [
    "line_image_size = (60, 800)\n",
    "line_image = handwriting_recognition_transform(np.array(im).mean(axis=2), line_image_size)\n",
    "line_character_prob = handwriting_line_recognition_net(line_image.as_in_context(ctx))"
   ]
  },
  {
   "cell_type": "code",
   "execution_count": 25,
   "metadata": {},
   "outputs": [
    {
     "data": {
      "text/plain": [
       "<matplotlib.image.AxesImage at 0x7f2bd81fd320>"
      ]
     },
     "execution_count": 25,
     "metadata": {},
     "output_type": "execute_result"
    },
    {
     "data": {
      "image/png": "[encoded data removed]",
      "text/plain": [
       "<Figure size 1080x1080 with 1 Axes>"
      ]
     },
     "metadata": {},
     "output_type": "display_data"
    }
   ],
   "source": [
    "plt.figure(figsize=(15,15))\n",
    "plt.imshow(line_image[0,0,:,:].asnumpy(), cmap='gray')"
   ]
  },
  {
   "cell_type": "code",
   "execution_count": 26,
   "metadata": {},
   "outputs": [],
   "source": [
    "from ocr.utils.CTCDecoder.BeamSearch import ctcBeamSearch"
   ]
  },
  {
   "cell_type": "code",
   "execution_count": 27,
   "metadata": {},
   "outputs": [],
   "source": [
    "def get_beam_search(prob, width=20, k=10):\n",
    "    possibilities = ctcBeamSearch(line_character_prob.softmax()[0].asnumpy(), alphabet_encoding, None, width, k)\n",
    "    return possibilities"
   ]
  },
  {
   "cell_type": "code",
   "execution_count": 28,
   "metadata": {},
   "outputs": [
    {
     "data": {
      "text/plain": [
       "['care',\n",
       " 'cane',\n",
       " 'coare',\n",
       " 'cave',\n",
       " 'caore',\n",
       " 'cae',\n",
       " 'canre',\n",
       " 'cace',\n",
       " 'case',\n",
       " 'care.',\n",
       " 'carer',\n",
       " 'cane.',\n",
       " 'coare.',\n",
       " 'cave.',\n",
       " 'caore.',\n",
       " 'cae.',\n",
       " 'canre.',\n",
       " 'cace.',\n",
       " 'case.',\n",
       " 'cared']"
      ]
     },
     "execution_count": 28,
     "metadata": {},
     "output_type": "execute_result"
    }
   ],
   "source": [
    "get_beam_search(line_character_prob)"
   ]
  },
  {
   "cell_type": "markdown",
   "metadata": {},
   "source": [
    "**Problem:** The network has already learnt a language model that biases the result towards realistic looking syllables"
   ]
  },
  {
   "cell_type": "markdown",
   "metadata": {},
   "source": [
    "## Testing a pre-trained network"
   ]
  },
  {
   "cell_type": "code",
   "execution_count": 29,
   "metadata": {},
   "outputs": [],
   "source": [
    "net = mx.gluon.model_zoo.vision.resnet18_v2(pretrained=True, ctx=ctx).features"
   ]
  },
  {
   "cell_type": "code",
   "execution_count": 30,
   "metadata": {},
   "outputs": [],
   "source": [
    "net.hybridize()"
   ]
  },
  {
   "cell_type": "code",
   "execution_count": 55,
   "metadata": {},
   "outputs": [],
   "source": [
    "batch_size = 128\n",
    "dim = 512\n",
    "tf = gluon.data.vision.transforms.ToTensor()"
   ]
  },
  {
   "cell_type": "code",
   "execution_count": 68,
   "metadata": {},
   "outputs": [
    {
     "name": "stdout",
     "output_type": "stream",
     "text": [
      "0\n",
      "1\n",
      "2\n",
      "3\n",
      "4\n",
      "5\n",
      "6\n",
      "7\n",
      "8\n",
      "9\n",
      "10\n",
      "11\n",
      "12\n",
      "13\n",
      "14\n",
      "15\n",
      "16\n",
      "17\n",
      "18\n",
      "19\n",
      "20\n",
      "21\n",
      "22\n",
      "23\n",
      "24\n",
      "25\n",
      "26\n",
      "27\n",
      "CPU times: user 53.3 s, sys: 37.1 s, total: 1min 30s\n",
      "Wall time: 6min 13s\n"
     ]
    }
   ],
   "source": [
    "%%time\n",
    "j = 0\n",
    "num_iterations = 4\n",
    "outputs = []\n",
    "for font in fonts:\n",
    "\n",
    "    train_dataset = FontDataset(ngrams=2, out_channel=3, font=font)\n",
    "    train_data = gluon.data.DataLoader(train_dataset.transform_first(tf), batch_size=batch_size, shuffle=False, num_workers=8)\n",
    "\n",
    "    for k in range(num_iterations):\n",
    "        print(j)\n",
    "        j += 1\n",
    "        for i, (data, _) in enumerate(train_data):\n",
    "            data = data.as_in_context(ctx)\n",
    "            output = net(data)\n",
    "            #embeddings[i*batch_size:(i+1)*batch_size, :] += output.squeeze().asnumpy()\n",
    "            for out in output.squeeze().asnumpy().reshape(-1, 512):\n",
    "                outputs.append(out)"
   ]
  },
  {
   "cell_type": "code",
   "execution_count": 69,
   "metadata": {},
   "outputs": [],
   "source": [
    "def get_index(dim, embeddings, num_elements):\n",
    "    # Generating sample data\n",
    "    data = np.float32(np.random.random((num_elements, dim)))\n",
    "    data_labels = np.arange(num_elements)\n",
    "\n",
    "    # Declaring index\n",
    "    p = hnswlib.Index(space = 'l2', dim = dim) # possible options are l2, cosine or ip\n",
    "\n",
    "    # Initing index - the maximum number of elements should be known beforehand\n",
    "    p.init_index(max_elements = num_elements, ef_construction = 200, M = 16)\n",
    "\n",
    "    # Element insertion (can be called several times):\n",
    "    p.add_items(embeddings, data_labels)\n",
    "\n",
    "    # Controlling the recall by setting ef:\n",
    "    p.set_ef(50) # ef should always be > k\n",
    "    return p"
   ]
  },
  {
   "cell_type": "code",
   "execution_count": 70,
   "metadata": {},
   "outputs": [],
   "source": [
    "p = get_index(dim, np.concatenate([arr.reshape(1, -1) for arr in outputs]), len(outputs))"
   ]
  },
  {
   "cell_type": "code",
   "execution_count": 98,
   "metadata": {},
   "outputs": [
    {
     "data": {
      "text/plain": [
       "<matplotlib.image.AxesImage at 0x7f2bd0442fd0>"
      ]
     },
     "execution_count": 98,
     "metadata": {},
     "output_type": "execute_result"
    },
    {
     "data": {
      "image/png": "[encoded data removed]",
      "text/plain": [
       "<Figure size 432x288 with 1 Axes>"
      ]
     },
     "metadata": {},
     "output_type": "display_data"
    }
   ],
   "source": [
    "# Query dataset, k - number of closest elements (returns 2 numpy arrays)\n",
    "img_ =  FontDataset(ngrams=2, out_channel=3, font=fonts[random.randint(0,len(fonts)-1)])._get_img(\"ni\")\n",
    "plt.imshow(img_)"
   ]
  },
  {
   "cell_type": "code",
   "execution_count": 99,
   "metadata": {},
   "outputs": [
    {
     "data": {
      "text/plain": [
       "[('in', 11.893604),\n",
       " ('iu', 11.989426),\n",
       " ('in', 12.552491),\n",
       " ('ia', 13.177385),\n",
       " ('ui', 13.470748),\n",
       " ('im', 14.696297),\n",
       " ('im', 14.77388),\n",
       " ('hi', 16.2318),\n",
       " ('h:', 16.532236),\n",
       " ('wi', 16.725075),\n",
       " ('k;', 16.856512),\n",
       " ('ir', 16.858435),\n",
       " ('h:', 16.922157),\n",
       " ('pi', 17.042528),\n",
       " (':u', 17.174086),\n",
       " ('ix', 17.25157),\n",
       " ('im', 17.320919),\n",
       " ('ki', 17.32481),\n",
       " ('hi', 17.357553),\n",
       " (';a', 17.434908),\n",
       " ('il', 17.482922),\n",
       " ('n.', 17.488781),\n",
       " ('vi', 17.56409),\n",
       " ('iu', 17.656849),\n",
       " ('ih', 17.800016),\n",
       " ('m;', 17.896198),\n",
       " ('ki', 17.958525),\n",
       " ('im', 18.24649),\n",
       " ('xi', 18.3467),\n",
       " ('mi', 19.173262),\n",
       " ('ni', 19.328247),\n",
       " (':n', 19.385479),\n",
       " ('ri', 19.48967),\n",
       " ('ia', 19.529366),\n",
       " ('ui', 19.596104),\n",
       " ('h.', 19.624004),\n",
       " ('h:', 19.666485),\n",
       " ('.m', 19.709978),\n",
       " ('si', 19.72042),\n",
       " ('m;', 19.903286),\n",
       " ('.r', 19.958567),\n",
       " ('m.', 20.092129),\n",
       " ('xi', 20.132511),\n",
       " ('hi', 20.183414),\n",
       " (';m', 20.306412),\n",
       " ('1m', 20.49355),\n",
       " ('ni', 20.513622),\n",
       " ('i2', 20.54639),\n",
       " ('ix', 20.593834),\n",
       " ('!h', 20.800331),\n",
       " ('u1', 20.856794),\n",
       " ('k;', 20.904186),\n",
       " ('mi', 20.94523),\n",
       " ('ix', 21.056004),\n",
       " ('jp', 21.079824),\n",
       " ('vi', 21.095201),\n",
       " ('n:', 21.126608),\n",
       " (',m', 21.134075),\n",
       " ('1r', 21.187471),\n",
       " ('m ', 21.188532),\n",
       " ('iu', 21.228647),\n",
       " ('4h', 21.249327),\n",
       " ('.m', 21.301598),\n",
       " ('7m', 21.309341),\n",
       " ('n:', 21.443367),\n",
       " ('ih', 21.46122),\n",
       " ('?n', 21.585032),\n",
       " ('!k', 21.665386),\n",
       " ('ha', 21.82576),\n",
       " ('ic', 21.841093),\n",
       " ('ni', 21.8553),\n",
       " ('x.', 21.859905),\n",
       " ('i2', 21.86971),\n",
       " ('v:', 21.894255),\n",
       " (';n', 21.937214),\n",
       " ('?m', 21.986767),\n",
       " ('!d', 21.990433),\n",
       " ('uz', 22.00454),\n",
       " ('wh', 22.015087),\n",
       " ('it', 22.024979),\n",
       " ('h;', 22.122143),\n",
       " ('V:', 22.152496),\n",
       " ('n.', 22.171638),\n",
       " ('h.', 22.204575),\n",
       " ('!k', 22.229544),\n",
       " ('m.', 22.252726),\n",
       " ('h.', 22.263334),\n",
       " ('.n', 22.269823),\n",
       " ('4u', 22.281921),\n",
       " ('x:', 22.283024),\n",
       " ('lk', 22.35904),\n",
       " ('ln', 22.389547),\n",
       " ('.v', 22.408937),\n",
       " ('ix', 22.437866),\n",
       " ('n:', 22.46598),\n",
       " ('.x', 22.536182),\n",
       " ('1u', 22.541431),\n",
       " ('oi', 22.582024),\n",
       " ('1h', 22.59204),\n",
       " ('za', 22.596632)]"
      ]
     },
     "execution_count": 99,
     "metadata": {},
     "output_type": "execute_result"
    }
   ],
   "source": [
    "img = nd.array(np.array(img_))\n",
    "output = net(tf(img).as_in_context(ctx).expand_dims(axis=0)).squeeze().asnumpy()\n",
    "labels, distances = p.knn_query(output, k = 100)\n",
    "[(train_dataset.elements[int(i%len(train_dataset))],d) for i,d in zip(labels[0],distances[0])]"
   ]
  },
  {
   "cell_type": "markdown",
   "metadata": {},
   "source": [
    "### Post Processing TBD"
   ]
  },
  {
   "cell_type": "code",
   "execution_count": null,
   "metadata": {},
   "outputs": [],
   "source": []
  }
 ],
 "metadata": {
  "kernelspec": {
   "display_name": "Python 3",
   "language": "python",
   "name": "python3"
  },
  "language_info": {
   "codemirror_mode": {
    "name": "ipython",
    "version": 3
   },
   "file_extension": ".py",
   "mimetype": "text/x-python",
   "name": "python",
   "nbconvert_exporter": "python",
   "pygments_lexer": "ipython3",
   "version": "3.6.4"
  }
 },
 "nbformat": 4,
 "nbformat_minor": 2
}
