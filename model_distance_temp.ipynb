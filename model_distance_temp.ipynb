{
 "cells": [
  {
   "cell_type": "code",
   "execution_count": 1,
   "metadata": {},
   "outputs": [],
   "source": [
    "from collections import defaultdict\n",
    "import glob\n",
    "from os.path import join\n",
    "import os\n",
    "import random\n",
    "import string\n",
    "import tarfile\n",
    "import zipfile"
   ]
  },
  {
   "cell_type": "code",
   "execution_count": 2,
   "metadata": {},
   "outputs": [],
   "source": [
    "import matplotlib.pyplot as plt\n",
    "import mxnet as mx\n",
    "import numpy as np\n",
    "from scipy.io import loadmat"
   ]
  },
  {
   "cell_type": "code",
   "execution_count": 3,
   "metadata": {},
   "outputs": [],
   "source": [
    "from mxnet import gluon, nd, autograd"
   ]
  },
  {
   "cell_type": "markdown",
   "metadata": {},
   "source": [
    "### Get Data"
   ]
  },
  {
   "cell_type": "code",
   "execution_count": 356,
   "metadata": {},
   "outputs": [],
   "source": [
    "import PIL\n",
    "from PIL import Image, ImageDraw, ImageFont, ImageOps"
   ]
  },
  {
   "cell_type": "code",
   "execution_count": 354,
   "metadata": {},
   "outputs": [
    {
     "name": "stdout",
     "output_type": "stream",
     "text": [
      "5.7468382276782615 0.832429523526617 204.59041394481343\n",
      "-1.1482933846823342 0.3632650790553438 188.4899764135756\n",
      "CPU times: user 20 ms, sys: 0 ns, total: 20 ms\n",
      "Wall time: 17.6 ms\n"
     ]
    }
   ],
   "source": [
    "%%time\n",
    "W, H = (300,200)\n",
    "im = Image.new(\"RGBA\",(W,H),\"white\")\n",
    "msg = \"al\"\n",
    "for i, char in enumerate(msg):    \n",
    "    size = random.gauss(200, 10)\n",
    "    im_char = Image.new(\"RGBA\",(W,H), (255, 0, 0, 0))\n",
    "    draw = ImageDraw.Draw(im_char)\n",
    "    rotate = random.gauss(0, 5)\n",
    "    font = ImageFont.truetype('dataset/fonts/Linoleo Script.ttf', size=int(size))    \n",
    "    slide = random.gauss(0.6, 0.3)\n",
    "    w, h = draw.textsize(char, font)\n",
    "    draw.text(((W-w)/2-w + slide*i*w,0), char, fill=\"black\", font=font)\n",
    "    im_char = im_char.rotate(rotate, expand=0, resample=PIL.Image.BICUBIC)\n",
    "    im.paste(im_char, mask=im_char)\n",
    "    print(rotate,slide,size)"
   ]
  },
  {
   "cell_type": "code",
   "execution_count": 355,
   "metadata": {},
   "outputs": [
    {
     "data": {
      "image/png": "[encoded data removed]",
      "text/plain": [
       "<PIL.Image.Image image mode=RGBA size=300x200 at 0x7F6318CA2CC0>"
      ]
     },
     "execution_count": 355,
     "metadata": {},
     "output_type": "execute_result"
    }
   ],
   "source": [
    "im"
   ]
  },
  {
   "cell_type": "code",
   "execution_count": 235,
   "metadata": {},
   "outputs": [],
   "source": [
    "class FontDataset(gluon.data.Dataset):\n",
    "    def __init__(self, fonts=[\n",
    "##                        'dataset/fonts/AdineKirnberg-Alternate.ttf',\n",
    "#                        'dataset/fonts/AguafinaScript-Regular.ttf',\n",
    "##                        'dataset/fonts/daisy.ttf',\n",
    "                        'dataset/fonts/Linoleo Script.ttf',\n",
    "##                       'dataset/fonts/mayqueen.ttf',\n",
    "#                        'dataset/fonts/Otto.ttf',\n",
    "#                        'dataset/fonts/Popsies.ttf',\n",
    "##                        'dataset/fonts/SANTO___.TTF',\n",
    "##                        'dataset/fonts/Scribble.ttf',\n",
    "#                        'dataset/fonts/Suwa.ttf'\n",
    "    ], \n",
    "                  ngrams=3, size=(128,128)):\n",
    "        self.fonts = fonts\n",
    "        self.ngrams = ngrams\n",
    "        self.alphabet = list(' ' + string.ascii_letters + string.digits + string.punctuation)\n",
    "        self.elements = self.alphabet\n",
    "        self.size = size\n",
    "        for i in range(self.ngrams-1):\n",
    "            elements_ = []\n",
    "            for word in self.elements:\n",
    "                for letter in self.alphabet:\n",
    "                    elements_.append(word+letter)\n",
    "            self.elements = elements_\n",
    "        a = 1\n",
    "        \n",
    "    def _get_img(self, text, font=None):\n",
    "        W, H = self.size\n",
    "        if font is None:\n",
    "            font = ImageFont.truetype(self.fonts[random.randint(0, len(self.fonts)-1)], size=120)\n",
    "        else:\n",
    "            font = ImageFont.truetype(font, size=60)\n",
    "        im = Image.new(\"RGB\", (W,H), \"white\")\n",
    "        draw = ImageDraw.Draw(im)\n",
    "        im.rotate(5,  expand=1)\n",
    "        w, h = draw.textsize(text, font)\n",
    "        draw.text(((W-w)/2,(H-h)/2), text, fill=\"black\", font=font)\n",
    "        return im\n",
    "            \n",
    "    def __getitem__(self, idx):\n",
    "        text = self.elements[idx]\n",
    "        im = self._get_img(text)\n",
    "        return nd.array(np.array(im).mean(axis=2)).expand_dims(axis=2), idx\n",
    "        \n",
    "    def __len__(self):\n",
    "        return len(self.elements)    "
   ]
  },
  {
   "cell_type": "code",
   "execution_count": 156,
   "metadata": {},
   "outputs": [],
   "source": [
    "train_dataset = FontDataset()"
   ]
  },
  {
   "cell_type": "code",
   "execution_count": 157,
   "metadata": {},
   "outputs": [],
   "source": [
    "batch_size = 64"
   ]
  },
  {
   "cell_type": "code",
   "execution_count": null,
   "metadata": {},
   "outputs": [],
   "source": [
    "train_data = gluon.data.DataLoader(train_dataset.transform_first(gluon.data.vision.transforms.ToTensor()), batch_size=batch_size, last_batch='rollover', shuffle=True, num_workers=8)"
   ]
  },
  {
   "cell_type": "code",
   "execution_count": 162,
   "metadata": {},
   "outputs": [
    {
     "data": {
      "text/plain": [
       "<matplotlib.image.AxesImage at 0x7f644c4c2048>"
      ]
     },
     "execution_count": 162,
     "metadata": {},
     "output_type": "execute_result"
    },
    {
     "data": {
      "image/png": "[encoded data removed]",
      "text/plain": [
       "<Figure size 432x288 with 1 Axes>"
      ]
     },
     "metadata": {},
     "output_type": "display_data"
    }
   ],
   "source": [
    "plt.imshow(train_dataset._get_img('pAg'))"
   ]
  },
  {
   "cell_type": "markdown",
   "metadata": {},
   "source": [
    "## Convolutional autoencoder"
   ]
  },
  {
   "cell_type": "code",
   "execution_count": 163,
   "metadata": {},
   "outputs": [],
   "source": [
    "net = gluon.nn.HybridSequential(prefix='autoencoder_')\n",
    "with net.name_scope():\n",
    "    # Encoder 1x28x28 -> 32x1x1\n",
    "    encoder = gluon.nn.HybridSequential(prefix='encoder_')\n",
    "    with encoder.name_scope():\n",
    "        encoder.add(\n",
    "            gluon.nn.Conv2D(channels=4, kernel_size=3, padding=2, activation='relu'),\n",
    "            gluon.nn.BatchNorm(),\n",
    "            gluon.nn.MaxPool2D(),\n",
    "            gluon.nn.Conv2D(channels=8, kernel_size=3, padding=2, activation='relu'),\n",
    "            gluon.nn.BatchNorm(),\n",
    "            gluon.nn.MaxPool2D(),\n",
    "            gluon.nn.Conv2D(channels=16, kernel_size=3, padding=2, activation='relu'),\n",
    "            gluon.nn.BatchNorm(),\n",
    "            gluon.nn.MaxPool2D(),\n",
    "            gluon.nn.Conv2D(channels=32, kernel_size=3, padding=2, activation='relu'),\n",
    "            gluon.nn.BatchNorm(),\n",
    "            gluon.nn.MaxPool2D(),\n",
    "            gluon.nn.Conv2D(channels=32, kernel_size=3, padding=2, activation='relu'),\n",
    "            gluon.nn.MaxPool2D(),\n",
    "            gluon.nn.Conv2D(channels=64, kernel_size=3, padding=2, activation='relu'),\n",
    "            gluon.nn.MaxPool2D(),\n",
    "            gluon.nn.Conv2D(channels=64, kernel_size=3, padding=0, activation='relu'),\n",
    "\n",
    "        )\n",
    "    decoder = gluon.nn.HybridSequential(prefix='decoder_')\n",
    "    # Decoder 32x1x1 -> 1x28x28\n",
    "    with decoder.name_scope():\n",
    "        decoder.add(\n",
    "            gluon.nn.Conv2D(channels=64, kernel_size=3, padding=2, activation='relu'),\n",
    "            gluon.nn.HybridLambda(lambda F, x: F.UpSampling(x, scale=2, sample_type='nearest')),\n",
    "            gluon.nn.BatchNorm(),\n",
    "            gluon.nn.Conv2D(channels=32, kernel_size=3, padding=2, activation='relu'),\n",
    "            gluon.nn.HybridLambda(lambda F, x: F.UpSampling(x, scale=2, sample_type='nearest')),\n",
    "            gluon.nn.BatchNorm(),\n",
    "            gluon.nn.Conv2D(channels=16, kernel_size=3, padding=1, activation='relu'),\n",
    "            gluon.nn.HybridLambda(lambda F, x: F.UpSampling(x, scale=2, sample_type='nearest')),\n",
    "            gluon.nn.BatchNorm(),\n",
    "            gluon.nn.Conv2D(channels=8, kernel_size=3, padding=1, activation='relu'),\n",
    "            gluon.nn.HybridLambda(lambda F, x: F.UpSampling(x, scale=2, sample_type='nearest')),\n",
    "            gluon.nn.Conv2D(channels=4, kernel_size=3, padding=1, activation='relu'),\n",
    "            gluon.nn.HybridLambda(lambda F, x: F.UpSampling(x, scale=2, sample_type='nearest')),\n",
    "            gluon.nn.Conv2D(channels=1, kernel_size=1, padding=0, activation='sigmoid')\n",
    "        )\n",
    "    net.add(\n",
    "        encoder,\n",
    "        decoder\n",
    "    )"
   ]
  },
  {
   "cell_type": "code",
   "execution_count": 164,
   "metadata": {},
   "outputs": [],
   "source": [
    "ctx = mx.gpu(1)"
   ]
  },
  {
   "cell_type": "code",
   "execution_count": 165,
   "metadata": {},
   "outputs": [],
   "source": [
    "net.initialize(ctx=ctx)"
   ]
  },
  {
   "cell_type": "code",
   "execution_count": 166,
   "metadata": {},
   "outputs": [],
   "source": [
    "net.load_parameters('model_checkpoint/distance.params', ctx=ctx)"
   ]
  },
  {
   "cell_type": "code",
   "execution_count": 167,
   "metadata": {},
   "outputs": [],
   "source": [
    "l2_loss = gluon.loss.L2Loss()\n",
    "l1_loss = gluon.loss.L1Loss()"
   ]
  },
  {
   "cell_type": "code",
   "execution_count": 173,
   "metadata": {},
   "outputs": [],
   "source": [
    "trainer = gluon.Trainer(net.collect_params(), 'adam', {'learning_rate': 0.0005, 'wd':0.00001})\n",
    "net.hybridize(static_shape=True, static_alloc=True)"
   ]
  },
  {
   "cell_type": "code",
   "execution_count": 174,
   "metadata": {},
   "outputs": [],
   "source": [
    "net.save_parameters('model_checkpoint/distance.params')"
   ]
  },
  {
   "cell_type": "code",
   "execution_count": null,
   "metadata": {},
   "outputs": [],
   "source": [
    "epochs = 10\n",
    "for e in range(epochs):\n",
    "    curr_loss = 0.\n",
    "    for i, (data, _) in enumerate(train_data):\n",
    "        data = data.as_in_context(ctx)\n",
    "        with autograd.record():\n",
    "            output = net(data)\n",
    "            # Compute the L2 and L1 losses between the original and the generated image\n",
    "            l2 = l2_loss(output.flatten(), data.flatten())\n",
    "            l1 = l1_loss(output.flatten(), data.flatten())\n",
    "            l =  l2 + l1 \n",
    "        l.backward()\n",
    "        trainer.step(data.shape[0])\n",
    "        \n",
    "        curr_loss += l.mean()\n",
    "        if i % 200 == 0:\n",
    "            print(\"[{}] loss: {:.4f}\".format(i, curr_loss.asscalar()/(i+1)))\n",
    "\n",
    "    print(\"Epoch [{}], Loss {}\".format(e, curr_loss.asscalar()/(i+1)))"
   ]
  },
  {
   "cell_type": "code",
   "execution_count": 186,
   "metadata": {},
   "outputs": [
    {
     "data": {
      "text/plain": [
       "<matplotlib.image.AxesImage at 0x7f632cea2c88>"
      ]
     },
     "execution_count": 186,
     "metadata": {},
     "output_type": "execute_result"
    },
    {
     "data": {
      "image/png": "[encoded data removed]",
      "text/plain": [
       "<Figure size 432x288 with 1 Axes>"
      ]
     },
     "metadata": {},
     "output_type": "display_data"
    }
   ],
   "source": [
    "plt.imshow(output[10][0,:,:].asnumpy(), cmap='gray')"
   ]
  },
  {
   "cell_type": "code",
   "execution_count": 33,
   "metadata": {},
   "outputs": [],
   "source": [
    "tf = gluon.data.vision.transforms.ToTensor()"
   ]
  },
  {
   "cell_type": "code",
   "execution_count": 69,
   "metadata": {},
   "outputs": [],
   "source": [
    "img = nd.array(np.array(train_dataset._get_img(\"mn\"))).mean(axis=2).expand_dims(axis=2)"
   ]
  },
  {
   "cell_type": "code",
   "execution_count": null,
   "metadata": {},
   "outputs": [],
   "source": [
    "output = encoder(tf(img).as_in_context(ctx).expand_dims(axis=0)).squeeze().asnumpy()"
   ]
  },
  {
   "cell_type": "code",
   "execution_count": 187,
   "metadata": {},
   "outputs": [],
   "source": [
    "batch_size = 1024\n",
    "train_dataset = FontDataset()\n",
    "train_data = gluon.data.DataLoader(train_dataset.transform_first(gluon.data.vision.transforms.ToTensor()), batch_size=batch_size, last_batch='rollover', shuffle=False, num_workers=8)"
   ]
  },
  {
   "cell_type": "code",
   "execution_count": 188,
   "metadata": {},
   "outputs": [],
   "source": [
    "import hnswlib\n",
    "import numpy as np\n",
    "\n",
    "dim = 64\n",
    "num_elements = len(train_dataset)\n",
    "\n",
    "# Generating sample data\n",
    "data = np.float32(np.random.random((num_elements, dim)))\n",
    "data_labels = np.arange(num_elements)\n",
    "\n",
    "# Declaring index\n",
    "p = hnswlib.Index(space = 'l2', dim = dim) # possible options are l2, cosine or ip\n",
    "\n",
    "# Initing index - the maximum number of elements should be known beforehand\n",
    "p.init_index(max_elements = num_elements, ef_construction = 200, M = 16)"
   ]
  },
  {
   "cell_type": "code",
   "execution_count": 189,
   "metadata": {},
   "outputs": [],
   "source": [
    "embeddings = np.zeros((len(train_dataset), 64))"
   ]
  },
  {
   "cell_type": "code",
   "execution_count": 190,
   "metadata": {},
   "outputs": [
    {
     "name": "stdout",
     "output_type": "stream",
     "text": [
      "0\n",
      "100\n",
      "200\n",
      "300\n",
      "400\n",
      "500\n",
      "600\n",
      "700\n",
      "800\n",
      "CPU times: user 15 s, sys: 12.7 s, total: 27.7 s\n",
      "Wall time: 2min 35s\n"
     ]
    }
   ],
   "source": [
    "%%time\n",
    "for i, (data, _) in enumerate(train_data):\n",
    "    data = data.as_in_context(ctx)\n",
    "    output = net[0](data)\n",
    "    embeddings[i*batch_size:(i+1)*batch_size, :] = output.squeeze().asnumpy()\n",
    "    if i % 100 == 0 :\n",
    "        print(i)"
   ]
  },
  {
   "cell_type": "code",
   "execution_count": 191,
   "metadata": {},
   "outputs": [],
   "source": [
    "# Element insertion (can be called several times):\n",
    "p.add_items(embeddings, data_labels)\n",
    "\n",
    "# Controlling the recall by setting ef:\n",
    "p.set_ef(50) # ef should always be > k"
   ]
  },
  {
   "cell_type": "code",
   "execution_count": 193,
   "metadata": {},
   "outputs": [],
   "source": [
    "train_dataset = FontDataset()"
   ]
  },
  {
   "cell_type": "code",
   "execution_count": 194,
   "metadata": {},
   "outputs": [
    {
     "data": {
      "image/png": "[encoded data removed]",
      "text/plain": [
       "<PIL.Image.Image image mode=RGB size=128x128 at 0x7F62FC765780>"
      ]
     },
     "execution_count": 194,
     "metadata": {},
     "output_type": "execute_result"
    }
   ],
   "source": [
    "img_"
   ]
  },
  {
   "cell_type": "code",
   "execution_count": null,
   "metadata": {},
   "outputs": [],
   "source": [
    "# Query dataset, k - number of closest elements (returns 2 numpy arrays)\n",
    "img_ = train_dataset._get_img(\"lal\")\n",
    "img = nd.array(np.array(img_)).mean(axis=2).expand_dims(axis=2)\n",
    "output = net[0](tf(img).as_in_context(ctx).expand_dims(axis=0)).squeeze().asnumpy()\n",
    "labels, distances = p.knn_query(output, k = 100)\n",
    "[train_dataset.elements[i] for i in labels[0]]"
   ]
  },
  {
   "cell_type": "code",
   "execution_count": null,
   "metadata": {},
   "outputs": [],
   "source": []
  }
 ],
 "metadata": {
  "kernelspec": {
   "display_name": "Python 3",
   "language": "python",
   "name": "python3"
  },
  "language_info": {
   "codemirror_mode": {
    "name": "ipython",
    "version": 3
   },
   "file_extension": ".py",
   "mimetype": "text/x-python",
   "name": "python",
   "nbconvert_exporter": "python",
   "pygments_lexer": "ipython3",
   "version": "3.6.4"
  }
 },
 "nbformat": 4,
 "nbformat_minor": 2
}
