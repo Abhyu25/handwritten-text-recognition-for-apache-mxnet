{
 "cells": [
  {
   "cell_type": "code",
   "execution_count": 1,
   "metadata": {},
   "outputs": [
    {
     "name": "stderr",
     "output_type": "stream",
     "text": [
      "/home/ubuntu/anaconda3/envs/mxnet_p36/lib/python3.6/site-packages/matplotlib/__init__.py:962: UserWarning: Duplicate key in file \"/home/ubuntu/.config/matplotlib/matplotlibrc\", line #2\n",
      "  (fname, cnt))\n",
      "/home/ubuntu/anaconda3/envs/mxnet_p36/lib/python3.6/site-packages/matplotlib/__init__.py:962: UserWarning: Duplicate key in file \"/home/ubuntu/.config/matplotlib/matplotlibrc\", line #3\n",
      "  (fname, cnt))\n"
     ]
    }
   ],
   "source": [
    "import math\n",
    "import os\n",
    "import time\n",
    "import wget\n",
    "import random\n",
    "import numpy as np\n",
    "import mxnet as mx\n",
    "from mxnet import gluon, autograd, nd\n",
    "from mxnet.gluon import nn, rnn\n",
    "from mxnet.gluon.data import ArrayDataset, DataLoader\n",
    "import string\n",
    "import tarfile\n",
    "import urllib\n",
    "import xml.etree.ElementTree as ET\n",
    "from PIL import Image, ImageOps\n",
    "import cv2\n",
    "import numpy as np\n",
    "import _pickle as cPickle\n",
    "import re\n",
    "import pandas as pd\n",
    "from IPython import display\n",
    "import matplotlib.pyplot as plt\n",
    "import pickle\n",
    "from leven import levenshtein\n",
    "import glob\n",
    "import matplotlib.gridspec as gridspec\n",
    "%matplotlib inline"
   ]
  },
  {
   "cell_type": "markdown",
   "metadata": {},
   "source": [
    "# Hand-writing detection using CNN + biLSTM + CTC-loss"
   ]
  },
  {
   "cell_type": "code",
   "execution_count": 2,
   "metadata": {},
   "outputs": [],
   "source": [
    "DESIRED_SIZE = (32,128)\n",
    "IMAGES_DATA_FILE = 'images_data.pkl'\n",
    "DATA_FOLDER = 'handwritting'\n",
    "USERNAME = 'thomasdelteil'\n",
    "PASSWORD = 'delteilthomas'"
   ]
  },
  {
   "cell_type": "markdown",
   "metadata": {},
   "source": [
    "## Data Preprocessing"
   ]
  },
  {
   "cell_type": "code",
   "execution_count": 3,
   "metadata": {},
   "outputs": [],
   "source": [
    "def pre_processing(img_in):    \n",
    "    im = cv2.imread(img_in, cv2.IMREAD_GRAYSCALE)\n",
    "    size = im.shape[:2] # old_size is in (height, width) format\n",
    "    if size[0] > DESIRED_SIZE[0] or size[1] > DESIRED_SIZE[1]:\n",
    "        ratio_w = float(DESIRED_SIZE[0])/size[0]\n",
    "        ratio_h = float(DESIRED_SIZE[1])/size[1]\n",
    "        ratio = min(ratio_w, ratio_h)\n",
    "        new_size = tuple([int(x*ratio) for x in size])\n",
    "        im = cv2.resize(im, (new_size[1], new_size[0]))\n",
    "        size = im.shape\n",
    "\n",
    "    delta_w = max(0, DESIRED_SIZE[1] - size[1])\n",
    "    delta_h = max(0, DESIRED_SIZE[0] - size[0])\n",
    "    top, bottom = delta_h//2, delta_h-(delta_h//2)\n",
    "    left, right = delta_w//2, delta_w-(delta_w//2)\n",
    "    \n",
    "    color = im[0][0]\n",
    "    if color < 230:\n",
    "        color = 230\n",
    "    new_im = cv2.copyMakeBorder(im, top, bottom, left, right, cv2.BORDER_CONSTANT, value=float(color))\n",
    "    img_arr = np.asarray(new_im)\n",
    "    return img_arr"
   ]
  },
  {
   "cell_type": "code",
   "execution_count": 4,
   "metadata": {},
   "outputs": [
    {
     "data": {
      "text/plain": [
       "<matplotlib.image.AxesImage at 0x7fc18a3c84e0>"
      ]
     },
     "execution_count": 4,
     "metadata": {},
     "output_type": "execute_result"
    },
    {
     "data": {
      "image/png": "[encoded data removed]",
      "text/plain": [
       "<matplotlib.figure.Figure at 0x7fc18a3dd518>"
      ]
     },
     "metadata": {},
     "output_type": "display_data"
    }
   ],
   "source": [
    "plt.imshow(pre_processing('love.png'), cmap='Greys_r')"
   ]
  },
  {
   "cell_type": "markdown",
   "metadata": {},
   "source": [
    "## Data Download"
   ]
  },
  {
   "cell_type": "markdown",
   "metadata": {},
   "source": [
    "If the data is already pickled, we don't bother downloading and loading. We read directly from disk"
   ]
  },
  {
   "cell_type": "code",
   "execution_count": 8,
   "metadata": {},
   "outputs": [],
   "source": [
    "if os.path.isfile(IMAGES_DATA_FILE):\n",
    "    images_data = pickle.load(open(IMAGES_DATA_FILE, 'rb'))\n",
    "else:\n",
    "    images_data = None"
   ]
  },
  {
   "cell_type": "code",
   "execution_count": 9,
   "metadata": {},
   "outputs": [
    {
     "name": "stdout",
     "output_type": "stream",
     "text": [
      "Downloading http://www.fki.inf.unibe.ch/DBs/iamDB/data/words/words.tgz\n",
      "Downloading http://www.fki.inf.unibe.ch/DBs/iamDB/data/xml/xml.tgz\n"
     ]
    }
   ],
   "source": [
    "if images_data is None:\n",
    "    password_mgr = urllib.request.HTTPPasswordMgrWithDefaultRealm()\n",
    "\n",
    "    url_partial = \"http://www.fki.inf.unibe.ch/DBs/iamDB/data/\"\n",
    "    urls = ['{}words/words.tgz'.format(url_partial), '{}xml/xml.tgz'.format(url_partial)]\n",
    "\n",
    "    if not os.path.isdir(DATA_FOLDER):\n",
    "        os.makedirs(DATA_FOLDER)\n",
    "\n",
    "    for url in urls:\n",
    "        password_mgr.add_password(None, url, USERNAME, PASSWORD)\n",
    "        handler = urllib.request.HTTPBasicAuthHandler(password_mgr)\n",
    "        opener = urllib.request.build_opener(handler)\n",
    "        urllib.request.install_opener(opener)\n",
    "        archive_file = os.path.join(DATA_FOLDER, url.split('/')[-1])\n",
    "        if not os.path.isfile(archive_file):\n",
    "            print('Downloading {}'.format(url))\n",
    "            opener.open(url)    \n",
    "            urllib.request.urlretrieve(url, filename=os.path.join(DATA_FOLDER, url.split('/')[-1]))[0]\n",
    "            tar = tarfile.open(archive_file, \"r:gz\")\n",
    "            print('Extracting {}'.format(archive_file))\n",
    "            tar.extractall(os.path.join(DATA_FOLDER,'extract'))\n",
    "            tar.close()\n",
    "            print('Done.')"
   ]
  },
  {
   "cell_type": "markdown",
   "metadata": {},
   "source": [
    "## Data Loading"
   ]
  },
  {
   "cell_type": "code",
   "execution_count": 10,
   "metadata": {},
   "outputs": [
    {
     "name": "stdout",
     "output_type": "stream",
     "text": [
      "115318 images successfully loaded, 2 errors\n",
      "CPU times: user 47.4 s, sys: 1.84 s, total: 49.2 s\n",
      "Wall time: 49.3 s\n"
     ]
    }
   ],
   "source": [
    "%%time\n",
    "if images_data is None:\n",
    "    error_count = 0\n",
    "    images_data = dict()\n",
    "    image_files = glob.glob(DATA_FOLDER + '/**/*.png', recursive=True)\n",
    "    for filepath in image_files:\n",
    "        try:\n",
    "            processed_img = pre_processing(filepath)                \n",
    "            images_data[filepath.split('/')[-1].split('.')[0]] = [processed_img]\n",
    "        except:\n",
    "            error_count += 1\n",
    "\n",
    "\n",
    "    xml_files = glob.glob(DATA_FOLDER + '/**/*.xml', recursive=True)\n",
    "    for filepath in xml_files:\n",
    "        tree = ET.parse(filepath)\n",
    "        root = tree.getroot()\n",
    "        for word in root.iter('word'):\n",
    "            if word.attrib['id'] in images_data:\n",
    "                images_data[word.attrib['id']].append(word.attrib['text'])\n",
    "\n",
    "    print(\"{} images successfully loaded, {} errors\".format(len(images_data), error_count))\n",
    "    images_data = [(images_data[key][0], images_data[key][1]) for key in images_data]\n",
    "    pickle.dump(images_data, open(IMAGES_DATA_FILE, 'wb'))"
   ]
  },
  {
   "cell_type": "code",
   "execution_count": 51,
   "metadata": {},
   "outputs": [
    {
     "data": {
      "image/png": "[encoded data removed]",
      "text/plain": [
       "<matplotlib.figure.Figure at 0x7fc0efa9f780>"
      ]
     },
     "metadata": {},
     "output_type": "display_data"
    }
   ],
   "source": [
    "for i in range(20):\n",
    "    n = int(random.random()*len(images_data))\n",
    "    ax = plt.imshow(images_data[n][0], cmap='Greys_r')\n",
    "    plt.title(images_data[n][1])\n",
    "    display.display(plt.gcf())\n",
    "    display.clear_output(wait=True)\n",
    "    time.sleep(1)"
   ]
  },
  {
   "cell_type": "markdown",
   "metadata": {},
   "source": [
    "## Data Set creation"
   ]
  },
  {
   "cell_type": "code",
   "execution_count": 12,
   "metadata": {},
   "outputs": [
    {
     "name": "stdout",
     "output_type": "stream",
     "text": [
      "abcdefghijklmnopqrstuvwxyzABCDEFGHIJKLMNOPQRSTUVWXYZ0123456789!\"#$%&'()*+,-./:;<=>?@[\\]^_`{|}~ \n"
     ]
    }
   ],
   "source": [
    "SEQ_LEN = 32\n",
    "ALPHABET = string.ascii_letters+string.digits+string.punctuation+' '\n",
    "ALPHABET_INDEX = {ALPHABET[i]:i for i in range(len(ALPHABET))}\n",
    "ALPHABET_SIZE = len(ALPHABET)+1\n",
    "BATCH_SIZE = 64\n",
    "print(ALPHABET)"
   ]
  },
  {
   "cell_type": "code",
   "execution_count": 13,
   "metadata": {},
   "outputs": [],
   "source": [
    "random.shuffle(images_data)\n",
    "split = 0.8\n",
    "images_data_train = images_data[:int(split*len(images_data))]\n",
    "images_data_test = images_data[int(split*len(images_data)):]"
   ]
  },
  {
   "cell_type": "code",
   "execution_count": 14,
   "metadata": {},
   "outputs": [],
   "source": [
    "def transform(image, label):\n",
    "    image = np.expand_dims(image, axis=0).astype(np.float32)/255.\n",
    "    label_encoded = np.zeros(SEQ_LEN, dtype=np.float32)-1\n",
    "    for i, letter in enumerate(label):\n",
    "        if i >= SEQ_LEN:\n",
    "            break\n",
    "        label_encoded[i] = ALPHABET_INDEX[letter]\n",
    "    \n",
    "    return image, label_encoded"
   ]
  },
  {
   "cell_type": "code",
   "execution_count": 15,
   "metadata": {},
   "outputs": [],
   "source": [
    "dataset_train = ArrayDataset(images_data_train).transform(transform)\n",
    "dataset_test = ArrayDataset(images_data_test).transform(transform)"
   ]
  },
  {
   "cell_type": "code",
   "execution_count": 16,
   "metadata": {},
   "outputs": [],
   "source": [
    "dataloader_train = DataLoader(dataset_train, batch_size=BATCH_SIZE, last_batch='discard', shuffle=True)\n",
    "dataloader_test = DataLoader(dataset_test, batch_size=BATCH_SIZE, last_batch='discard', shuffle=True)"
   ]
  },
  {
   "cell_type": "markdown",
   "metadata": {},
   "source": [
    "## Model Creation"
   ]
  },
  {
   "cell_type": "code",
   "execution_count": 17,
   "metadata": {},
   "outputs": [],
   "source": [
    "NUM_HIDDEN = 200\n",
    "NUM_CLASSES = 13550\n",
    "NUM_LSTM_LAYER = 1\n",
    "p_dropout = 0.5"
   ]
  },
  {
   "cell_type": "markdown",
   "metadata": {},
   "source": [
    "Compute context"
   ]
  },
  {
   "cell_type": "code",
   "execution_count": 18,
   "metadata": {},
   "outputs": [],
   "source": [
    "ctx = mx.gpu()"
   ]
  },
  {
   "cell_type": "markdown",
   "metadata": {},
   "source": [
    "### Featurizer layer\n",
    "We use a CNN to featurize the input data"
   ]
  },
  {
   "cell_type": "code",
   "execution_count": 32,
   "metadata": {},
   "outputs": [],
   "source": [
    "def get_featurizer():\n",
    "    featurizer = gluon.nn.HybridSequential()\n",
    "    # conv layer\n",
    "    featurizer.add(gluon.nn.Conv2D(kernel_size=(3,3), padding=(1,1), channels=32, activation=\"relu\"))\n",
    "#    featurizer.add(gluon.nn.MaxPool2D(pool_size=(2,2), strides=(2,2)))\n",
    "    featurizer.add(gluon.nn.BatchNorm())\n",
    "#    featurizer.add(gluon.nn.Dropout(p_dropout))\n",
    "    \n",
    "    # second conv layer\n",
    "    featurizer.add(gluon.nn.Conv2D(kernel_size=(3,3), padding=(1,1), channels=32, activation=\"relu\"))\n",
    "    featurizer.add(gluon.nn.MaxPool2D(pool_size=(2,2), strides=(2,2)))\n",
    "#    featurizer.add(gluon.nn.BatchNorm())\n",
    "#    featurizer.add(gluon.nn.Dropout(p_dropout))\n",
    "    \n",
    "    #third conv layer\n",
    "    featurizer.add(gluon.nn.Conv2D(kernel_size=(3,3), padding=(1,1), channels=32, activation=\"relu\"))\n",
    "#    featurizer.add(gluon.nn.MaxPool2D(pool_size=(2,2), strides=(2,2)))\n",
    "    featurizer.add(gluon.nn.BatchNorm())\n",
    "    featurizer.add(gluon.nn.Dropout(p_dropout))\n",
    "    \n",
    "    #fourth layer\n",
    "    featurizer.add(gluon.nn.Conv2D(kernel_size=(3,3), padding=(1,1), channels=32, activation=\"relu\"))\n",
    "    featurizer.add(gluon.nn.BatchNorm())\n",
    "#   featurizer.add(gluon.nn.Dropout(p_dropout))\n",
    "    featurizer.hybridize()\n",
    "    return featurizer"
   ]
  },
  {
   "cell_type": "markdown",
   "metadata": {},
   "source": [
    "### Encoder layer\n",
    "The LSTM will take the data in temporal order (left to right), SEQ_LEN slices and will encoded them"
   ]
  },
  {
   "cell_type": "markdown",
   "metadata": {},
   "source": [
    "We define a custom layer that is going to:\n",
    "- reshape the data from (N, W, H) to (SEQ_LEN, N, CHANNELS)\n",
    "- run the biDirectional LSTM\n",
    "- reshape the data from (SEQ_LEN, N, HIDDEN_UNITS) to (N, SEQ_LEN, HIDDEN_UNITS)"
   ]
  },
  {
   "cell_type": "code",
   "execution_count": 20,
   "metadata": {},
   "outputs": [],
   "source": [
    "class EncoderLayer(gluon.Block):\n",
    "    def __init__(self, **kwargs):\n",
    "        super(EncoderLayer, self).__init__(**kwargs)\n",
    "        with self.name_scope():\n",
    "            self.lstm = mx.gluon.rnn.LSTM(NUM_HIDDEN, NUM_LSTM_LAYER, bidirectional=True)\n",
    "    def forward(self, x):\n",
    "        x = x.transpose((0,3,1,2))\n",
    "        x = x.flatten()\n",
    "        x = x.split(num_outputs=SEQ_LEN, axis = 1) # (SEQ_LEN, N, CHANNELS)\n",
    "        x = nd.concat(*[elem.expand_dims(axis=0) for elem in x], dim=0)\n",
    "        x = self.lstm(x)\n",
    "        x = x.transpose((1, 0, 2)) # (N, SEQ_LEN, HIDDEN_UNITS)\n",
    "        return x"
   ]
  },
  {
   "cell_type": "code",
   "execution_count": 34,
   "metadata": {},
   "outputs": [],
   "source": [
    "def get_encoder():\n",
    "    encoder = gluon.nn.Sequential()\n",
    "    encoder.add(EncoderLayer())\n",
    "    encoder.add(gluon.nn.Dropout(p_dropout))\n",
    "    return encoder"
   ]
  },
  {
   "cell_type": "markdown",
   "metadata": {},
   "source": [
    "### Decoder layer\n",
    "The resulting encoded slices will be fed to a fully connected layer of size ALPHABET_SIZE and the result will be fed to a CTC loss"
   ]
  },
  {
   "cell_type": "code",
   "execution_count": 35,
   "metadata": {},
   "outputs": [],
   "source": [
    "def get_decoder():\n",
    "    decoder = mx.gluon.nn.Dense(units=ALPHABET_SIZE, flatten=False)\n",
    "    decoder.hybridize()\n",
    "    return decoder"
   ]
  },
  {
   "cell_type": "markdown",
   "metadata": {},
   "source": [
    "### Loss"
   ]
  },
  {
   "cell_type": "code",
   "execution_count": 70,
   "metadata": {},
   "outputs": [],
   "source": [
    "ctc_loss = gluon.loss.CTCLoss(weight=0.2)"
   ]
  },
  {
   "cell_type": "markdown",
   "metadata": {},
   "source": [
    "### Net Assembly"
   ]
  },
  {
   "cell_type": "code",
   "execution_count": 71,
   "metadata": {},
   "outputs": [],
   "source": [
    "def get_net():\n",
    "    net = gluon.nn.Sequential()\n",
    "    with net.name_scope():\n",
    "        net.add(get_featurizer())\n",
    "        net.add(get_encoder())\n",
    "        net.add(get_decoder())\n",
    "    return net\n",
    "net = get_net()"
   ]
  },
  {
   "cell_type": "markdown",
   "metadata": {},
   "source": [
    "### Parameters initialization"
   ]
  },
  {
   "cell_type": "code",
   "execution_count": 72,
   "metadata": {},
   "outputs": [],
   "source": [
    "net.collect_params().initialize(mx.init.Xavier(), ctx=ctx)"
   ]
  },
  {
   "cell_type": "markdown",
   "metadata": {},
   "source": [
    "### Trainer"
   ]
  },
  {
   "cell_type": "code",
   "execution_count": 79,
   "metadata": {},
   "outputs": [],
   "source": [
    "LEARNING_RATE = 0.00005\n",
    "trainer = gluon.Trainer(net.collect_params(), 'adam', {'learning_rate': LEARNING_RATE, })"
   ]
  },
  {
   "cell_type": "markdown",
   "metadata": {},
   "source": [
    "### Evaluation loop"
   ]
  },
  {
   "cell_type": "code",
   "execution_count": 74,
   "metadata": {},
   "outputs": [],
   "source": [
    "# This decodes the predictions and the labels back to words\n",
    "def decode(prediction):\n",
    "    results = []\n",
    "    for word in prediction:\n",
    "        result = []\n",
    "        for i, index in enumerate(word):\n",
    "            if i < len(word) - 1 and word[i] == word[i+1] and word[-1] != -1: #Hack to decode label as well\n",
    "                continue\n",
    "            if index == len(ALPHABET) or index == -1:\n",
    "                continue\n",
    "            else:\n",
    "                result.append(ALPHABET[int(index)])\n",
    "        results.append(result)\n",
    "    words = [''.join(word) for word in results]\n",
    "    return words"
   ]
  },
  {
   "cell_type": "markdown",
   "metadata": {},
   "source": [
    "We use a metric based on the levenshtein distance. This measure what is the number of operations we would need to apply to the prediction in % of the total length of the label"
   ]
  },
  {
   "cell_type": "code",
   "execution_count": 75,
   "metadata": {},
   "outputs": [],
   "source": [
    "def metric_levenshtein(predictions, labels):\n",
    "    predictions = predictions.softmax().topk(axis=2).asnumpy()\n",
    "    zipped = zip(decode(labels.asnumpy()), decode(predictions))\n",
    "    metric = sum([(len(label)-levenshtein(label, pred))/len(label) for label, pred in zipped])\n",
    "    return metric/len(labels)"
   ]
  },
  {
   "cell_type": "code",
   "execution_count": 76,
   "metadata": {},
   "outputs": [],
   "source": [
    "def evaluate_accuracy(net, dataloader):\n",
    "    metric = 0\n",
    "    for i, (data, label) in enumerate(dataloader):\n",
    "        data = data.as_in_context(ctx)\n",
    "        label = label.as_in_context(ctx)\n",
    "        output = net(data)\n",
    "        metric += metric_levenshtein(output, label)\n",
    "    return metric/(i+1)"
   ]
  },
  {
   "cell_type": "code",
   "execution_count": 77,
   "metadata": {},
   "outputs": [
    {
     "name": "stdout",
     "output_type": "stream",
     "text": [
      "CPU times: user 11.1 s, sys: 2.73 s, total: 13.9 s\n",
      "Wall time: 15.2 s\n"
     ]
    },
    {
     "data": {
      "text/plain": [
       "-2.509263699384142"
      ]
     },
     "execution_count": 77,
     "metadata": {},
     "output_type": "execute_result"
    }
   ],
   "source": [
    "%%time\n",
    "evaluate_accuracy(net, dataloader_test)"
   ]
  },
  {
   "cell_type": "markdown",
   "metadata": {},
   "source": [
    "### Training loop"
   ]
  },
  {
   "cell_type": "code",
   "execution_count": 83,
   "metadata": {},
   "outputs": [
    {
     "name": "stdout",
     "output_type": "stream",
     "text": [
      "Batches 250: CTC Loss: 6.13, time:10.67 s\n",
      "Batches 500: CTC Loss: 5.90, time:10.56 s\n",
      "Batches 750: CTC Loss: 5.94, time:10.54 s\n",
      "Batches 1000: CTC Loss: 5.97, time:10.81 s\n",
      "Batches 1250: CTC Loss: 5.78, time:10.56 s\n",
      "Epoch 0, Val_acc 0.71\n",
      "Batches 250: CTC Loss: 5.79, time:10.69 s\n",
      "Batches 500: CTC Loss: 5.65, time:10.79 s\n",
      "Batches 750: CTC Loss: 5.75, time:10.52 s\n",
      "Batches 1000: CTC Loss: 5.60, time:10.59 s\n",
      "Batches 1250: CTC Loss: 5.78, time:10.51 s\n",
      "Epoch 1, Val_acc 0.72\n",
      "Batches 250: CTC Loss: 5.67, time:10.70 s\n",
      "Batches 500: CTC Loss: 5.63, time:10.54 s\n",
      "Batches 750: CTC Loss: 5.50, time:10.55 s\n",
      "Batches 1000: CTC Loss: 5.43, time:10.59 s\n",
      "Batches 1250: CTC Loss: 5.45, time:10.53 s\n",
      "Epoch 2, Val_acc 0.73\n",
      "Batches 250: CTC Loss: 5.44, time:10.69 s\n",
      "Batches 500: CTC Loss: 5.40, time:10.51 s\n",
      "Batches 750: CTC Loss: 5.21, time:10.57 s\n",
      "Batches 1000: CTC Loss: 5.39, time:10.84 s\n",
      "Batches 1250: CTC Loss: 5.40, time:10.52 s\n",
      "Epoch 3, Val_acc 0.74\n",
      "Batches 250: CTC Loss: 5.35, time:10.65 s\n",
      "Batches 500: CTC Loss: 5.21, time:10.55 s\n",
      "Batches 750: CTC Loss: 5.18, time:10.53 s\n",
      "Batches 1000: CTC Loss: 5.22, time:10.56 s\n",
      "Batches 1250: CTC Loss: 5.06, time:10.84 s\n",
      "Epoch 4, Val_acc 0.74\n",
      "Batches 250: CTC Loss: 5.09, time:10.61 s\n",
      "Batches 500: CTC Loss: 5.07, time:10.50 s\n",
      "Batches 750: CTC Loss: 5.11, time:10.85 s\n",
      "Batches 1000: CTC Loss: 5.10, time:10.58 s\n",
      "Batches 1250: CTC Loss: 4.97, time:10.57 s\n",
      "Epoch 5, Val_acc 0.75\n",
      "Batches 250: CTC Loss: 5.02, time:10.67 s\n",
      "Batches 500: CTC Loss: 4.92, time:10.58 s\n",
      "Batches 750: CTC Loss: 4.96, time:10.61 s\n",
      "Batches 1000: CTC Loss: 4.91, time:10.56 s\n",
      "Batches 1250: CTC Loss: 4.87, time:10.58 s\n",
      "Epoch 6, Val_acc 0.76\n",
      "Batches 250: CTC Loss: 4.94, time:10.66 s\n",
      "Batches 500: CTC Loss: 4.80, time:10.63 s\n",
      "Batches 750: CTC Loss: 4.87, time:10.52 s\n",
      "Batches 1000: CTC Loss: 4.94, time:10.53 s\n",
      "Batches 1250: CTC Loss: 4.66, time:10.60 s\n",
      "Epoch 7, Val_acc 0.76\n",
      "Batches 250: CTC Loss: 4.63, time:10.55 s\n",
      "Batches 500: CTC Loss: 4.66, time:10.56 s\n",
      "Batches 750: CTC Loss: 4.80, time:10.86 s\n",
      "Batches 1000: CTC Loss: 4.79, time:10.57 s\n",
      "Batches 1250: CTC Loss: 4.68, time:10.56 s\n",
      "Epoch 8, Val_acc 0.77\n",
      "Batches 250: CTC Loss: 4.57, time:10.67 s\n",
      "Batches 500: CTC Loss: 4.63, time:10.57 s\n",
      "Batches 750: CTC Loss: 4.60, time:10.53 s\n",
      "Batches 1000: CTC Loss: 4.55, time:10.90 s\n",
      "Batches 1250: CTC Loss: 4.71, time:10.59 s\n",
      "Epoch 9, Val_acc 0.77\n",
      "Batches 250: CTC Loss: 4.47, time:10.70 s\n",
      "Batches 500: CTC Loss: 4.65, time:10.61 s\n",
      "Batches 750: CTC Loss: 4.41, time:10.55 s\n",
      "Batches 1000: CTC Loss: 4.55, time:10.60 s\n",
      "Batches 1250: CTC Loss: 4.37, time:10.54 s\n",
      "Epoch 10, Val_acc 0.78\n",
      "Batches 250: CTC Loss: 4.42, time:10.70 s\n",
      "Batches 500: CTC Loss: 4.44, time:10.54 s\n",
      "Batches 750: CTC Loss: 4.45, time:10.58 s\n",
      "Batches 1000: CTC Loss: 4.45, time:10.84 s\n",
      "Batches 1250: CTC Loss: 4.41, time:10.60 s\n",
      "Epoch 11, Val_acc 0.78\n",
      "Batches 250: CTC Loss: 4.30, time:10.64 s\n",
      "Batches 500: CTC Loss: 4.35, time:10.55 s\n",
      "Batches 750: CTC Loss: 4.34, time:10.57 s\n",
      "Batches 1000: CTC Loss: 4.30, time:10.57 s\n",
      "Batches 1250: CTC Loss: 4.37, time:10.94 s\n",
      "Epoch 12, Val_acc 0.78\n",
      "Batches 250: CTC Loss: 4.21, time:10.70 s\n",
      "Batches 500: CTC Loss: 4.21, time:10.60 s\n",
      "Batches 750: CTC Loss: 4.35, time:10.57 s\n",
      "Batches 1000: CTC Loss: 4.12, time:10.57 s\n",
      "Batches 1250: CTC Loss: 4.35, time:10.55 s\n",
      "Epoch 13, Val_acc 0.79\n",
      "Batches 250: CTC Loss: 4.15, time:10.67 s\n",
      "Batches 500: CTC Loss: 4.12, time:10.73 s\n",
      "Batches 750: CTC Loss: 4.28, time:10.55 s\n",
      "Batches 1000: CTC Loss: 4.06, time:10.56 s\n",
      "Batches 1250: CTC Loss: 4.17, time:10.59 s\n",
      "Epoch 14, Val_acc 0.79\n",
      "Batches 250: CTC Loss: 4.15, time:10.67 s\n",
      "Batches 500: CTC Loss: 4.10, time:10.52 s\n",
      "Batches 750: CTC Loss: 4.06, time:10.61 s\n",
      "Batches 1000: CTC Loss: 4.08, time:10.67 s\n",
      "Batches 1250: CTC Loss: 4.02, time:10.90 s\n",
      "Epoch 15, Val_acc 0.80\n",
      "Batches 250: CTC Loss: 4.07, time:10.62 s\n",
      "Batches 500: CTC Loss: 4.04, time:10.58 s\n",
      "Batches 750: CTC Loss: 3.95, time:10.55 s\n",
      "Batches 1000: CTC Loss: 3.98, time:10.61 s\n",
      "Batches 1250: CTC Loss: 3.93, time:10.91 s\n",
      "Epoch 16, Val_acc 0.80\n",
      "Batches 250: CTC Loss: 4.03, time:10.71 s\n",
      "Batches 500: CTC Loss: 3.97, time:10.62 s\n",
      "Batches 750: CTC Loss: 3.99, time:10.63 s\n",
      "Batches 1000: CTC Loss: 3.83, time:10.59 s\n",
      "Batches 1250: CTC Loss: 3.94, time:10.62 s\n",
      "Epoch 17, Val_acc 0.80\n",
      "Batches 250: CTC Loss: 3.81, time:10.64 s\n",
      "Batches 500: CTC Loss: 4.01, time:10.58 s\n",
      "Batches 750: CTC Loss: 3.81, time:10.61 s\n",
      "Batches 1000: CTC Loss: 3.83, time:10.82 s\n",
      "Batches 1250: CTC Loss: 3.92, time:10.53 s\n",
      "Epoch 18, Val_acc 0.80\n",
      "Batches 250: CTC Loss: 3.82, time:10.67 s\n",
      "Batches 500: CTC Loss: 3.84, time:10.60 s\n",
      "Batches 750: CTC Loss: 3.80, time:10.86 s\n",
      "Batches 1000: CTC Loss: 3.81, time:10.55 s\n",
      "Batches 1250: CTC Loss: 3.86, time:10.62 s\n",
      "Epoch 19, Val_acc 0.80\n"
     ]
    }
   ],
   "source": [
    "epochs = 20\n",
    "print_n = 250\n",
    "for e in range(epochs):    \n",
    "    loss = nd.zeros(1, ctx)\n",
    "    tick = time.time()\n",
    "    acc = nd.zeros(1, ctx)\n",
    "    for i, (data, label) in enumerate(dataloader_train):\n",
    "        data = data.as_in_context(ctx)\n",
    "        label = label.as_in_context(ctx)\n",
    "\n",
    "        with autograd.record():\n",
    "            output = net(data)\n",
    "            loss_ctc = ctc_loss(output, label)\n",
    "            loss_ctc = (label != -1).sum(axis=1)*loss_ctc\n",
    "        loss_ctc.backward()\n",
    "        loss += loss_ctc.mean()\n",
    "        \n",
    "        trainer.step(data.shape[0])\n",
    "            \n",
    "        if i%print_n == 0 and i > 0:\n",
    "            print('Batches {0}: CTC Loss: {1:.2f}, time:{2:.2f} s'.format(\n",
    "                i, float(loss.asscalar()/print_n), time.time()-tick))\n",
    "            loss = nd.zeros(1, ctx)\n",
    "            tick = time.time()\n",
    "            nd.waitall()\n",
    "    validation_accuracy = evaluate_accuracy(net, dataloader_test)\n",
    "    print(\"Epoch {0}, Val_acc {1:.2f}\".format(e, validation_accuracy))"
   ]
  },
  {
   "cell_type": "markdown",
   "metadata": {},
   "source": [
    "## Saving/Loading"
   ]
  },
  {
   "cell_type": "code",
   "execution_count": 81,
   "metadata": {},
   "outputs": [],
   "source": [
    "a = nd.array([1,2,3])"
   ]
  },
  {
   "cell_type": "code",
   "execution_count": 82,
   "metadata": {},
   "outputs": [
    {
     "data": {
      "text/plain": [
       "\n",
       "[ 1.  4.  9.]\n",
       "<NDArray 3 @cpu(0)>"
      ]
     },
     "execution_count": 82,
     "metadata": {},
     "output_type": "execute_result"
    }
   ],
   "source": [
    "a*a"
   ]
  },
  {
   "cell_type": "code",
   "execution_count": 50,
   "metadata": {},
   "outputs": [
    {
     "name": "stdout",
     "output_type": "stream",
     "text": [
      "Net:  0.20439838561255835\n",
      "Net 2: 0.20443100923893162\n"
     ]
    }
   ],
   "source": [
    "net.save_params('test.params')\n",
    "print('Net: ', evaluate_accuracy(net, dataloader_test))\n",
    "net2 = get_net()\n",
    "net2.load_params('test.params', ctx)\n",
    "print('Net 2:', evaluate_accuracy(net2, dataloader_test))"
   ]
  },
  {
   "cell_type": "markdown",
   "metadata": {},
   "source": [
    "## Evaluation"
   ]
  },
  {
   "cell_type": "code",
   "execution_count": 84,
   "metadata": {},
   "outputs": [],
   "source": [
    "def plot_predictions(images, predictions, labels):\n",
    "    gs = gridspec.GridSpec(6, 3)\n",
    "    fig = plt.figure(figsize=(15, 10))\n",
    "    gs.update(hspace=0.1, wspace=0.1)\n",
    "    for gg, prediction, label, image in zip(gs, predictions, labels, images):\n",
    "        gg2 = gridspec.GridSpecFromSubplotSpec(10, 10, subplot_spec=gg)\n",
    "        ax = fig.add_subplot(gg2[:,:])\n",
    "        ax.imshow(image.asnumpy().squeeze(), cmap='Greys_r')\n",
    "        ax.tick_params(axis='both',       \n",
    "                       which='both',      \n",
    "                       bottom='off',      \n",
    "                       top='off',         \n",
    "                       left='off',\n",
    "                       right='off',\n",
    "                       labelleft='off',\n",
    "                       labelbottom='off') \n",
    "        ax.axes.set_title(\"{} | {}\".format(label, prediction))"
   ]
  },
  {
   "cell_type": "code",
   "execution_count": 95,
   "metadata": {},
   "outputs": [],
   "source": [
    "for i, (data, label) in enumerate(dataloader_test):\n",
    "    data = data.as_in_context(ctx)\n",
    "    label = label.as_in_context(ctx)\n",
    "    output = net(data)\n",
    "    break"
   ]
  },
  {
   "cell_type": "code",
   "execution_count": 96,
   "metadata": {},
   "outputs": [
    {
     "data": {
      "image/png": "[encoded data removed]",
      "text/plain": [
       "<matplotlib.figure.Figure at 0x7fc0ef0c99e8>"
      ]
     },
     "metadata": {},
     "output_type": "display_data"
    }
   ],
   "source": [
    "predictions = decode(output.softmax().topk(axis=2).asnumpy())\n",
    "labels = decode(label.asnumpy())\n",
    "plot_predictions(data, predictions, labels)"
   ]
  },
  {
   "cell_type": "markdown",
   "metadata": {},
   "source": [
    "### Manual Testing"
   ]
  },
  {
   "cell_type": "code",
   "execution_count": 90,
   "metadata": {},
   "outputs": [],
   "source": [
    "image_path = 'love.png'"
   ]
  },
  {
   "cell_type": "code",
   "execution_count": 91,
   "metadata": {},
   "outputs": [],
   "source": [
    "image = pre_processing(image_path).astype(np.float32)/255.\n",
    "batchified_image = nd.array([np.expand_dims(image, axis=0)]*BATCH_SIZE, ctx)\n",
    "output = net(batchified_image)\n",
    "prediction = decode(output.softmax().topk(axis=2).asnumpy())"
   ]
  },
  {
   "cell_type": "code",
   "execution_count": 92,
   "metadata": {},
   "outputs": [
    {
     "data": {
      "text/plain": [
       "<matplotlib.image.AxesImage at 0x7fc0eef41908>"
      ]
     },
     "execution_count": 92,
     "metadata": {},
     "output_type": "execute_result"
    },
    {
     "data": {
      "image/png": "[encoded data removed]",
      "text/plain": [
       "<matplotlib.figure.Figure at 0x7fc0eeec6d30>"
      ]
     },
     "metadata": {},
     "output_type": "display_data"
    }
   ],
   "source": [
    "plt.title(prediction[0])\n",
    "plt.imshow(image, cmap='Greys_r')"
   ]
  },
  {
   "cell_type": "code",
   "execution_count": null,
   "metadata": {},
   "outputs": [],
   "source": []
  }
 ],
 "metadata": {
  "kernelspec": {
   "display_name": "Environment (conda_mxnet_p36)",
   "language": "python",
   "name": "conda_mxnet_p36"
  },
  "language_info": {
   "codemirror_mode": {
    "name": "ipython",
    "version": 3
   },
   "file_extension": ".py",
   "mimetype": "text/x-python",
   "name": "python",
   "nbconvert_exporter": "python",
   "pygments_lexer": "ipython3",
   "version": "3.6.4"
  }
 },
 "nbformat": 4,
 "nbformat_minor": 2
}
